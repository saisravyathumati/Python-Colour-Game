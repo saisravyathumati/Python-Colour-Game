{
 "cells": [
  {
   "cell_type": "markdown",
   "metadata": {},
   "source": [
    "# COLOUR GAME PYTHON"
   ]
  },
  {
   "cell_type": "code",
   "execution_count": 1,
   "metadata": {},
   "outputs": [],
   "source": [
    "import tkinter\n",
    "import random"
   ]
  },
  {
   "cell_type": "code",
   "execution_count": 2,
   "metadata": {},
   "outputs": [],
   "source": [
    "#list of possible colors:\n",
    "colours=['Red','Blue','Green','Pink','Purple','Orange','Yellow','Black','White']"
   ]
  },
  {
   "cell_type": "code",
   "execution_count": 3,
   "metadata": {},
   "outputs": [],
   "source": [
    "score=0"
   ]
  },
  {
   "cell_type": "code",
   "execution_count": 4,
   "metadata": {},
   "outputs": [],
   "source": [
    "#the game time left, initially 30 seconds.\n",
    "timeleft=30"
   ]
  },
  {
   "cell_type": "code",
   "execution_count": 5,
   "metadata": {},
   "outputs": [],
   "source": [
    "#function to start the game\n",
    "def startGame(event):\n",
    "    if(timeleft==30):\n",
    "        #start the countdown timer\n",
    "        countdown()\n",
    "    #run the function to choose next color\n",
    "    nextColour()"
   ]
  },
  {
   "cell_type": "code",
   "execution_count": 6,
   "metadata": {},
   "outputs": [],
   "source": [
    "def nextColour():\n",
    "    #use the globally declared 'score' and 'play' variables above.\n",
    "    global score\n",
    "    global timeleft\n",
    "    #if a game is currently in play\n",
    "    if(timeleft>0):\n",
    "        #make the text entry box active\n",
    "        e.focus_set()\n",
    "        #if the color typed is equal to the color of the text\n",
    "        if(e.get().lower()==colours[1].lower()):\n",
    "            score+=1\n",
    "        #clear the text entry box\n",
    "        e.delete(0, tkinter.END)\n",
    "        random.shuffle(colours)\n",
    "        #change the colour to type, by changing thetext and the colour to a random colour value\n",
    "        label.config(fg=str(colours[1]),text=str(colours[0]))\n",
    "        #update the score\n",
    "        scorelabel.config(text=\"Score: \"+str(score))\n",
    "        \n",
    "            "
   ]
  },
  {
   "cell_type": "code",
   "execution_count": 7,
   "metadata": {},
   "outputs": [],
   "source": [
    "def countdown():\n",
    "    global timeleft\n",
    "    #if a game is in play\n",
    "    if(timeleft>0):\n",
    "        #decrement the timer\n",
    "        timeleft-=1\n",
    "        #update the time left label\n",
    "        timeLabel.config(text=\"Time left: \"+str(timeleft))\n",
    "        #run the function again after 1 second.\n",
    "        timeLabel.after(1000,countdown)"
   ]
  },
  {
   "cell_type": "code",
   "execution_count": 8,
   "metadata": {},
   "outputs": [],
   "source": [
    "#create a gui window\n",
    "root=tkinter.Tk()\n",
    "\n",
    "#set the title\n",
    "root.title(\"COLOR GAME\")\n",
    "\n",
    "#set the size\n",
    "root.geometry(\"500x500\")\n",
    "\n",
    "#add an instructions label\n",
    "inst=tkinter.Label(root,text=\"Type in the colour!\", font=('Helvetica',12))\n",
    "inst.pack()\n",
    "\n",
    "#add a score label\n",
    "scorelabel=tkinter.Label(root,text=\"Press enter to start \", font=('Helvetica',12))\n",
    "scorelabel.pack()\n",
    "\n",
    "#add a time left label\n",
    "timeLabel=tkinter.Label(root,text=\"Time Left :\"+str(timeleft), font=('Helvetica',12))\n",
    "timeLabel.pack()\n",
    "\n",
    "#add a label for displaying the colours\n",
    "label=tkinter.Label(root, font=('Helvetica',12))\n",
    "label.pack()\n",
    "\n",
    "#add a text entry box for ttyping in colours\n",
    "e=tkinter.Entry(root)\n",
    "\n",
    "#run the startGame function when the enter key is pressed\n",
    "root.bind('<Return>',startGame)\n",
    "e.pack()\n",
    "\n",
    "#set focus on the entry box\n",
    "e.focus_set()\n",
    "    \n",
    "#start the GUI\n",
    "root.mainloop()"
   ]
  },
  {
   "cell_type": "code",
   "execution_count": null,
   "metadata": {},
   "outputs": [],
   "source": []
  },
  {
   "cell_type": "code",
   "execution_count": null,
   "metadata": {},
   "outputs": [],
   "source": []
  }
 ],
 "metadata": {
  "kernelspec": {
   "display_name": "Python 3",
   "language": "python",
   "name": "python3"
  },
  "language_info": {
   "codemirror_mode": {
    "name": "ipython",
    "version": 3
   },
   "file_extension": ".py",
   "mimetype": "text/x-python",
   "name": "python",
   "nbconvert_exporter": "python",
   "pygments_lexer": "ipython3",
   "version": "3.8.3"
  }
 },
 "nbformat": 4,
 "nbformat_minor": 4
}
